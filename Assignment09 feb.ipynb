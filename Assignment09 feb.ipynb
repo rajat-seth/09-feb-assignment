{
 "cells": [
  {
   "cell_type": "markdown",
   "id": "4b50984e-9fdb-4225-9019-825ee5ccd0d7",
   "metadata": {},
   "source": [
    "Q1)"
   ]
  },
  {
   "cell_type": "code",
   "execution_count": 12,
   "id": "c5f03eb8-1386-4357-b170-c4c475b5bbfe",
   "metadata": {},
   "outputs": [],
   "source": [
    "class vehicle:\n",
    "    def __init__(self,name_of_vehicle,max_speed,average_of_vehicle):\n",
    "        self.name_of_vehicle=name\n",
    "        self.max_speed=maxspeed\n",
    "        self.average_of_vehicle=average\n",
    "    "
   ]
  },
  {
   "cell_type": "markdown",
   "id": "ae53beca-a73c-4913-9e1d-eb65035be4b8",
   "metadata": {},
   "source": [
    "Q2)"
   ]
  },
  {
   "cell_type": "code",
   "execution_count": 14,
   "id": "34e2cc40-2731-49a5-99fe-5b36334c7969",
   "metadata": {},
   "outputs": [],
   "source": [
    "class child(vehicle):\n",
    "    def __init__(self):\n",
    "        pass"
   ]
  },
  {
   "cell_type": "code",
   "execution_count": 31,
   "id": "030ea816-c85e-49a2-8680-2484c6af66ad",
   "metadata": {},
   "outputs": [],
   "source": [
    "class vehicle:\n",
    "    def __init__(self,name_of_vehicle,max_speed,average_of_vehicle):\n",
    "        self.name_of_vehicle=name_of_vehicle\n",
    "        self.max_speed=max_speed\n",
    "        self.average_of_vehicle=average_of_vehicle\n",
    "    def seating_capacity(self,capacity):\n",
    "        return f\"The seating capacity of {self.name_of_vehicle} is {capacity} passengers\""
   ]
  },
  {
   "cell_type": "code",
   "execution_count": 32,
   "id": "e1dcf317-6a3a-4013-bd18-5fa9b7e3ea16",
   "metadata": {},
   "outputs": [],
   "source": [
    "vehicle_obj=vehicle(\"innova\",200,80)"
   ]
  },
  {
   "cell_type": "code",
   "execution_count": 33,
   "id": "8baef8a2-cd5c-4018-af45-fdbbb858e392",
   "metadata": {},
   "outputs": [
    {
     "data": {
      "text/plain": [
       "'The seating capacity of innova is 7 passengers'"
      ]
     },
     "execution_count": 33,
     "metadata": {},
     "output_type": "execute_result"
    }
   ],
   "source": [
    "vehicle_obj.seating_capacity(7)"
   ]
  },
  {
   "cell_type": "markdown",
   "id": "fffee946-bd8a-4918-b6e3-0b06c02a9551",
   "metadata": {},
   "source": [
    "Q3)"
   ]
  },
  {
   "cell_type": "markdown",
   "id": "bcf01436-bee5-4caa-bdfb-652fdcbfd312",
   "metadata": {},
   "source": [
    "Multiple inheritance is a feature of OOPs in which an object or class can inherit feature from more than one object or class. "
   ]
  },
  {
   "cell_type": "code",
   "execution_count": 47,
   "id": "491a875d-3654-4160-992d-ba357788497c",
   "metadata": {},
   "outputs": [],
   "source": [
    "class class1:\n",
    "    def test_class1(self):\n",
    "        print(\"hi\")"
   ]
  },
  {
   "cell_type": "code",
   "execution_count": 46,
   "id": "e774aa9f-3bc3-4fe4-b6ab-1f3d526d91b1",
   "metadata": {},
   "outputs": [],
   "source": [
    "class class2:\n",
    "    def test_class2(self):\n",
    "        print(\"byee\")"
   ]
  },
  {
   "cell_type": "code",
   "execution_count": 48,
   "id": "5516fc98-94e9-4576-839f-dd29baadc3ca",
   "metadata": {},
   "outputs": [],
   "source": [
    "class class3(class1,class2):\n",
    "        pass"
   ]
  },
  {
   "cell_type": "code",
   "execution_count": 49,
   "id": "1e4bc45a-342b-4f0c-bd5a-85789df4d194",
   "metadata": {},
   "outputs": [],
   "source": [
    "obj_class3=class3()"
   ]
  },
  {
   "cell_type": "code",
   "execution_count": 50,
   "id": "e76f52f1-12cd-4af5-a70c-1c41ac63408c",
   "metadata": {},
   "outputs": [
    {
     "name": "stdout",
     "output_type": "stream",
     "text": [
      "hi\n"
     ]
    }
   ],
   "source": [
    "obj_class3.test_class1()"
   ]
  },
  {
   "cell_type": "code",
   "execution_count": 51,
   "id": "f35a62a6-f3c9-4ecb-854e-b014e06a70e9",
   "metadata": {},
   "outputs": [
    {
     "name": "stdout",
     "output_type": "stream",
     "text": [
      "byee\n"
     ]
    }
   ],
   "source": [
    "obj_class3.test_class2()"
   ]
  },
  {
   "cell_type": "markdown",
   "id": "7c23c939-89de-4d72-b471-c85bf0fa4db3",
   "metadata": {},
   "source": [
    "Q4)"
   ]
  },
  {
   "cell_type": "markdown",
   "id": "9bad2fde-c7f0-4eca-b047-e965cdda19d9",
   "metadata": {},
   "source": [
    "Getter and setter are used to protect data as setter can be used to mutate data while getter doesn't allow other to mutate data only accesor can do so."
   ]
  },
  {
   "cell_type": "code",
   "execution_count": 52,
   "id": "2baa76b3-f86b-49e4-9f1e-94047c886552",
   "metadata": {},
   "outputs": [],
   "source": [
    "class car:\n",
    "    def __init__(self,year,make,model,speed):\n",
    "        self.__year=year\n",
    "        self.__make=make\n",
    "        self.__model=model\n",
    "        self.__speed=0\n",
    "    def set_speed(self,speed) :\n",
    "        self.__speed=0 if speed<0 else speed\n",
    "    def get_speed(self):\n",
    "        return self.__speed"
   ]
  },
  {
   "cell_type": "code",
   "execution_count": 55,
   "id": "c08b5e5e-5c3b-4c39-801a-8b2e1bdb342a",
   "metadata": {},
   "outputs": [],
   "source": [
    "obj_car=car(2023,2023,\"verna\",200)"
   ]
  },
  {
   "cell_type": "code",
   "execution_count": 56,
   "id": "4fcd1ea9-f5c5-460e-b2e4-cd7401513e15",
   "metadata": {},
   "outputs": [],
   "source": [
    "obj_car.set_speed(200)"
   ]
  },
  {
   "cell_type": "code",
   "execution_count": 58,
   "id": "efc7a6b3-ece9-400b-b954-137eb1c227e6",
   "metadata": {},
   "outputs": [
    {
     "data": {
      "text/plain": [
       "200"
      ]
     },
     "execution_count": 58,
     "metadata": {},
     "output_type": "execute_result"
    }
   ],
   "source": [
    "obj_car.get_speed()"
   ]
  },
  {
   "cell_type": "markdown",
   "id": "825251a9-6924-48f6-9c89-470c1ae264e1",
   "metadata": {},
   "source": [
    "Q5)"
   ]
  },
  {
   "cell_type": "markdown",
   "id": "11e8f1f4-f1c8-4467-965a-3d48e7ddade0",
   "metadata": {},
   "source": [
    "Method overriding is a feature of object-oriented programming languages where the subclass or child class can provide the program with specific characteristics or a specific implementation process of data provided that are already defined in the parent class or superclass."
   ]
  },
  {
   "cell_type": "code",
   "execution_count": 59,
   "id": "2e2a9e92-504b-4302-9a79-41d0dc0d03cf",
   "metadata": {},
   "outputs": [],
   "source": [
    "class class1:\n",
    "    def test_class1():\n",
    "        print(\"this is class1\")"
   ]
  },
  {
   "cell_type": "code",
   "execution_count": 60,
   "id": "15e93db2-e0b9-416a-90f6-82b696ba8018",
   "metadata": {},
   "outputs": [],
   "source": [
    "class class2(class1):\n",
    "    pass"
   ]
  },
  {
   "cell_type": "code",
   "execution_count": 61,
   "id": "c4250b9d-0705-44c6-a83e-072d2e247307",
   "metadata": {},
   "outputs": [],
   "source": [
    "obj_class2=class2"
   ]
  },
  {
   "cell_type": "code",
   "execution_count": null,
   "id": "204fa6c6-68d2-48cb-97d0-fff519dd44f0",
   "metadata": {},
   "outputs": [],
   "source": [
    "obj"
   ]
  }
 ],
 "metadata": {
  "kernelspec": {
   "display_name": "Python 3 (ipykernel)",
   "language": "python",
   "name": "python3"
  },
  "language_info": {
   "codemirror_mode": {
    "name": "ipython",
    "version": 3
   },
   "file_extension": ".py",
   "mimetype": "text/x-python",
   "name": "python",
   "nbconvert_exporter": "python",
   "pygments_lexer": "ipython3",
   "version": "3.10.8"
  }
 },
 "nbformat": 4,
 "nbformat_minor": 5
}
